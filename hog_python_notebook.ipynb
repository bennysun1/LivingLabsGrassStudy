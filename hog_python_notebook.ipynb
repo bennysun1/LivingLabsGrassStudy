{
 "cells": [
  {
   "cell_type": "code",
   "execution_count": 2,
   "id": "initial_id",
   "metadata": {
    "ExecuteTime": {
     "end_time": "2024-04-18T14:29:45.664059Z",
     "start_time": "2024-04-18T14:29:45.610352Z"
    }
   },
   "outputs": [
    {
     "ename": "ModuleNotFoundError",
     "evalue": "No module named 'skimage'",
     "output_type": "error",
     "traceback": [
      "\u001B[0;31m---------------------------------------------------------------------------\u001B[0m",
      "\u001B[0;31mModuleNotFoundError\u001B[0m                       Traceback (most recent call last)",
      "Cell \u001B[0;32mIn[2], line 9\u001B[0m\n\u001B[1;32m      6\u001B[0m \u001B[38;5;28;01mimport\u001B[39;00m \u001B[38;5;21;01mmatplotlib\u001B[39;00m\u001B[38;5;21;01m.\u001B[39;00m\u001B[38;5;21;01mpyplot\u001B[39;00m \u001B[38;5;28;01mas\u001B[39;00m \u001B[38;5;21;01mplt\u001B[39;00m\n\u001B[1;32m      7\u001B[0m get_ipython()\u001B[38;5;241m.\u001B[39mrun_line_magic(\u001B[38;5;124m'\u001B[39m\u001B[38;5;124mmatplotlib\u001B[39m\u001B[38;5;124m'\u001B[39m, \u001B[38;5;124m'\u001B[39m\u001B[38;5;124minline\u001B[39m\u001B[38;5;124m'\u001B[39m)\n\u001B[0;32m----> 9\u001B[0m \u001B[38;5;28;01mfrom\u001B[39;00m \u001B[38;5;21;01mskimage\u001B[39;00m\u001B[38;5;21;01m.\u001B[39;00m\u001B[38;5;21;01mio\u001B[39;00m \u001B[38;5;28;01mimport\u001B[39;00m imread, imshow\n\u001B[1;32m     10\u001B[0m \u001B[38;5;28;01mfrom\u001B[39;00m \u001B[38;5;21;01mskimage\u001B[39;00m\u001B[38;5;21;01m.\u001B[39;00m\u001B[38;5;21;01mtransform\u001B[39;00m \u001B[38;5;28;01mimport\u001B[39;00m resize\n\u001B[1;32m     11\u001B[0m \u001B[38;5;28;01mfrom\u001B[39;00m \u001B[38;5;21;01mskimage\u001B[39;00m\u001B[38;5;21;01m.\u001B[39;00m\u001B[38;5;21;01mfeature\u001B[39;00m \u001B[38;5;28;01mimport\u001B[39;00m hog\n",
      "\u001B[0;31mModuleNotFoundError\u001B[0m: No module named 'skimage'"
     ]
    }
   ],
   "source": [
    "import sys\n",
    "\n",
    "import numpy as np\n",
    "import pandas as pd\n",
    "\n",
    "import matplotlib.pyplot as plt\n",
    "%matplotlib inline\n",
    "\n",
    "from skimage.io import imread, imshow\n",
    "from skimage.transform import resize\n",
    "from skimage.feature import hog\n",
    "from skimage import data, exposure\n",
    "\n",
    "#import os"
   ]
  },
  {
   "cell_type": "markdown",
   "id": "951563748b7f3508",
   "metadata": {},
   "source": [
    "## Grid example HOG"
   ]
  },
  {
   "cell_type": "code",
   "execution_count": null,
   "id": "d449af462f8b6a15",
   "metadata": {
    "ExecuteTime": {
     "start_time": "2024-04-18T14:29:45.630580Z"
    }
   },
   "outputs": [],
   "source": [
    "image = imread('grid.png')\n",
    "imshow(image)\n",
    "print(image.shape)\n",
    "resized_image = resize(image, (300, 400))\n",
    "#resized_image = image\n",
    "imshow(resized_image)\n",
    "print(resized_image.shape)\n",
    "fig, hog_image = hog(resized_image, orientations=9, pixels_per_cell=(6, 6),\n",
    "                     cells_per_block=(30, 30), visualize=True, channel_axis=2 #multichannel=True\n",
    "                     )\n",
    "fig, (ax1, ax2) = plt.subplots(1, 2, figsize=(16, 7), sharex=True, sharey=True)\n",
    "\n",
    "ax1.imshow(resized_image, cmap=plt.cm.gray)\n",
    "ax1.set_title('Input image')\n",
    "\n",
    "# Rescale histogram for better display \n",
    "hog_color_rescaled = exposure.rescale_intensity(hog_image, in_range=(0, 10))\n",
    "\n",
    "ax2.imshow(hog_color_rescaled, cmap=plt.cm.gray)\n",
    "ax2.set_title('Histogram of Oriented Gradients (HOG)')\n",
    "\n",
    "# store to file\n",
    "plt.savefig(\"grid_example_hog.png\", dpi=125)\n",
    "\n",
    "plt.show()"
   ]
  },
  {
   "cell_type": "markdown",
   "id": "e202cc2a33fc7591",
   "metadata": {},
   "source": [
    "## Color Example HOG"
   ]
  },
  {
   "cell_type": "code",
   "execution_count": null,
   "id": "d975c14482339da7",
   "metadata": {
    "ExecuteTime": {
     "start_time": "2024-04-18T14:29:45.633094Z"
    }
   },
   "outputs": [],
   "source": [
    "image = imread('color_example.jpg')\n",
    "imshow(image)\n",
    "print(image.shape)"
   ]
  },
  {
   "cell_type": "code",
   "execution_count": null,
   "id": "a6aac46cd8f3a23",
   "metadata": {
    "ExecuteTime": {
     "start_time": "2024-04-18T14:29:45.636904Z"
    }
   },
   "outputs": [],
   "source": [
    "resized_image = resize(image, (100,150))\n",
    "imshow(resized_image)\n",
    "print(resized_image.shape)"
   ]
  },
  {
   "cell_type": "code",
   "execution_count": null,
   "id": "2bf32de7f6365557",
   "metadata": {
    "ExecuteTime": {
     "start_time": "2024-04-18T14:29:45.639588Z"
    }
   },
   "outputs": [],
   "source": [
    "fig, hog_image = hog(resized_image, orientations=9, pixels_per_cell=(8, 8), \n",
    "                     feature_vector = True,\n",
    "                    cells_per_block=(2, 2), visualize=True, channel_axis=2 #multichannel=True\n",
    ")"
   ]
  },
  {
   "cell_type": "code",
   "execution_count": null,
   "id": "c80bbf71951036a9",
   "metadata": {
    "ExecuteTime": {
     "start_time": "2024-04-18T14:29:45.641337Z"
    }
   },
   "outputs": [],
   "source": [
    "#import numpy\n",
    "#numpy.printoptions(threshold=sys.maxsize)#numpy.inf\n",
    "#print(hog_image[1])\n",
    "#len(hog_image[0])\n",
    "#hog_image[0]\n",
    "import math\n",
    "\n",
    "hog_gradient_angle = []\n",
    "\n",
    "for r in range(1, 99):\n",
    "    for c in range(1, 149):\n",
    "        gx = hog_image[r,c+1] - hog_image[r,c-1]\n",
    "        gy = hog_image[r+1,c] - hog_image[r-1,c]\n",
    "        \n",
    "        if gx == 0:\n",
    "            if gy == 0:\n",
    "                continue\n",
    "            else:\n",
    "                angle = math.pi / 2\n",
    "        else:\n",
    "            angle = math.atan(gy/gx)\n",
    "        \n",
    "        hog_gradient_angle.append(angle)\n",
    "\n",
    "#print(hog_gradient_mag)\n",
    "plt.hist(hog_gradient_angle) \n",
    "plt.title(\"histogram\") \n",
    "plt.show()"
   ]
  },
  {
   "cell_type": "code",
   "execution_count": null,
   "id": "59b2dbb9a71a6ed3",
   "metadata": {
    "ExecuteTime": {
     "start_time": "2024-04-18T14:29:45.642703Z"
    }
   },
   "outputs": [],
   "source": [
    "fig, (ax1, ax2) = plt.subplots(1, 2, figsize=(16, 7), sharex=True, sharey=True)\n",
    "\n",
    "ax1.imshow(resized_image, cmap=plt.cm.gray)\n",
    "ax1.set_title('Input image')\n",
    "\n",
    "# Rescale histogram for better display \n",
    "hog_color_rescaled = exposure.rescale_intensity(hog_image, in_range=(0, 10))\n",
    "\n",
    "ax2.imshow(hog_color_rescaled, cmap=plt.cm.gray)\n",
    "ax2.set_title('Histogram of Oriented Gradients (HOG)')\n",
    "\n",
    "# store to file\n",
    "plt.savefig(\"color_example_hog.png\", dpi=125)\n",
    "\n",
    "plt.show()"
   ]
  },
  {
   "cell_type": "markdown",
   "id": "e6005a7a967a6c4d",
   "metadata": {},
   "source": [
    "## San Francisco Try!"
   ]
  },
  {
   "cell_type": "code",
   "execution_count": null,
   "id": "d7e82c699d39eb0",
   "metadata": {
    "ExecuteTime": {
     "start_time": "2024-04-18T14:29:45.644003Z"
    }
   },
   "outputs": [],
   "source": [
    "image = imread('san_francisco_zoom_12.png')\n",
    "imshow(image)\n",
    "print(image.shape)"
   ]
  },
  {
   "cell_type": "code",
   "execution_count": null,
   "id": "f8eaa99b18fa2630",
   "metadata": {
    "ExecuteTime": {
     "start_time": "2024-04-18T14:29:45.645408Z"
    }
   },
   "outputs": [],
   "source": [
    "resized_image = resize(image, (300, 450))\n",
    "#resized_image = image\n",
    "imshow(resized_image)\n",
    "print(resized_image.shape)"
   ]
  },
  {
   "cell_type": "code",
   "execution_count": null,
   "id": "d558ae551772fb5b",
   "metadata": {
    "ExecuteTime": {
     "start_time": "2024-04-18T14:29:45.646644Z"
    }
   },
   "outputs": [],
   "source": [
    "fig, hog_image = hog(resized_image, orientations=9, pixels_per_cell=(8, 8),\n",
    "                     cells_per_block=(2, 2), visualize=True, channel_axis=2 #multichannel=True\n",
    "                     )"
   ]
  },
  {
   "cell_type": "code",
   "execution_count": null,
   "id": "5e5c55413f10bff5",
   "metadata": {
    "ExecuteTime": {
     "start_time": "2024-04-18T14:29:45.648048Z"
    }
   },
   "outputs": [],
   "source": [
    "fig, (ax1, ax2) = plt.subplots(1, 2, figsize=(16, 7), sharex=True, sharey=True)\n",
    "\n",
    "ax1.imshow(resized_image, cmap=plt.cm.gray)\n",
    "ax1.set_title('Input image')\n",
    "\n",
    "# Rescale histogram for better display \n",
    "hog_color_rescaled = exposure.rescale_intensity(hog_image, in_range=(0, 10))\n",
    "\n",
    "ax2.imshow(hog_color_rescaled, cmap=plt.cm.gray)\n",
    "ax2.set_title('Histogram of Oriented Gradients (HOG)')\n",
    "\n",
    "# store to file\n",
    "plt.savefig(\"sf_example_hog.png\", dpi=125)\n",
    "\n",
    "plt.show()"
   ]
  },
  {
   "cell_type": "markdown",
   "id": "8d16032c907fa83c",
   "metadata": {},
   "source": [
    "## Salt Lake City Try!"
   ]
  },
  {
   "cell_type": "code",
   "execution_count": null,
   "id": "84ec4b95d332ce0",
   "metadata": {
    "ExecuteTime": {
     "start_time": "2024-04-18T14:29:45.649540Z"
    }
   },
   "outputs": [],
   "source": [
    "image = imread('salt_lake_city_zoom_12.png')\n",
    "imshow(image)\n",
    "print(image.shape)\n",
    "resized_image = resize(image, (600, 800))\n",
    "#resized_image = image\n",
    "imshow(resized_image)\n",
    "print(resized_image.shape)\n",
    "fig, hog_image = hog(resized_image, orientations=9, pixels_per_cell=(8, 8),\n",
    "                     cells_per_block=(2, 2), visualize=True, channel_axis=2 #multichannel=True\n",
    "                     )\n",
    "fig, (ax1, ax2) = plt.subplots(1, 2, figsize=(16, 7), sharex=True, sharey=True)\n",
    "\n",
    "ax1.imshow(resized_image, cmap=plt.cm.gray)\n",
    "ax1.set_title('Input image')\n",
    "\n",
    "# Rescale histogram for better display \n",
    "hog_color_rescaled = exposure.rescale_intensity(hog_image, in_range=(0, 10))\n",
    "\n",
    "ax2.imshow(hog_color_rescaled, cmap=plt.cm.gray)\n",
    "ax2.set_title('Histogram of Oriented Gradients (HOG)')\n",
    "\n",
    "# store to file\n",
    "plt.savefig(\"slc_example_hog.png\", dpi=125)\n",
    "\n",
    "plt.show()"
   ]
  },
  {
   "cell_type": "markdown",
   "id": "8e34e2223b60bc4",
   "metadata": {},
   "source": [
    "## Detroit HOG try!"
   ]
  },
  {
   "cell_type": "code",
   "execution_count": null,
   "id": "c0323f6552a24c82",
   "metadata": {
    "ExecuteTime": {
     "start_time": "2024-04-18T14:29:45.651051Z"
    }
   },
   "outputs": [],
   "source": [
    "image = imread('detroit_zoom_12.png')\n",
    "imshow(image)\n",
    "print(image.shape)\n",
    "resized_image = resize(image, (600, 800))\n",
    "# resized_image = image\n",
    "imshow(resized_image)\n",
    "print(resized_image.shape)\n",
    "fig, hog_image = hog(resized_image, orientations=9, pixels_per_cell=(8, 8),\n",
    "                     cells_per_block=(2, 2), visualize=True, channel_axis=2 #multichannel=True\n",
    "                     )\n",
    "fig, (ax1, ax2) = plt.subplots(1, 2, figsize=(16, 7), sharex=True, sharey=True)\n",
    "\n",
    "ax1.imshow(resized_image, cmap=plt.cm.gray)\n",
    "ax1.set_title('Input image')\n",
    "\n",
    "# Rescale histogram for better display \n",
    "hog_color_rescaled = exposure.rescale_intensity(hog_image, in_range=(0, 10))\n",
    "\n",
    "ax2.imshow(hog_color_rescaled, cmap=plt.cm.gray)\n",
    "ax2.set_title('Histogram of Oriented Gradients (HOG)')\n",
    "\n",
    "# store to file\n",
    "plt.savefig(\"detroit_example_hog.png\", dpi=125)\n",
    "\n",
    "plt.show()"
   ]
  },
  {
   "cell_type": "markdown",
   "id": "330c8c4bef709ae7",
   "metadata": {},
   "source": [
    "## Titus flip HOG"
   ]
  },
  {
   "cell_type": "code",
   "execution_count": 3,
   "id": "d3076f5cebe02c5a",
   "metadata": {
    "ExecuteTime": {
     "start_time": "2024-04-18T14:29:45.656672Z"
    }
   },
   "outputs": [
    {
     "ename": "NameError",
     "evalue": "name 'imread' is not defined",
     "output_type": "error",
     "traceback": [
      "\u001B[0;31m---------------------------------------------------------------------------\u001B[0m",
      "\u001B[0;31mNameError\u001B[0m                                 Traceback (most recent call last)",
      "Cell \u001B[0;32mIn[3], line 1\u001B[0m\n\u001B[0;32m----> 1\u001B[0m image \u001B[38;5;241m=\u001B[39m \u001B[43mimread\u001B[49m(\u001B[38;5;124m'\u001B[39m\u001B[38;5;124mTitusFlip.jpg\u001B[39m\u001B[38;5;124m'\u001B[39m)\n\u001B[1;32m      2\u001B[0m imshow(image)\n\u001B[1;32m      3\u001B[0m \u001B[38;5;28mprint\u001B[39m(image\u001B[38;5;241m.\u001B[39mshape)\n",
      "\u001B[0;31mNameError\u001B[0m: name 'imread' is not defined"
     ]
    }
   ],
   "source": [
    "image = imread('TitusFlip.jpg')\n",
    "imshow(image)\n",
    "print(image.shape)\n",
    "resized_image = resize(image, (300, 400))\n",
    "#resized_image = image\n",
    "imshow(resized_image)\n",
    "print(resized_image.shape)\n",
    "fig, hog_image = hog(resized_image, orientations=9, pixels_per_cell=(6, 6),\n",
    "                     cells_per_block=(30, 30), visualize=True, channel_axis=2 #multichannel=True\n",
    "                     )\n",
    "fig, (ax1, ax2) = plt.subplots(1, 2, figsize=(16, 7), sharex=True, sharey=True)\n",
    "\n",
    "ax1.imshow(resized_image, cmap=plt.cm.gray)\n",
    "ax1.set_title('Input image')\n",
    "\n",
    "# Rescale histogram for better display \n",
    "hog_color_rescaled = exposure.rescale_intensity(hog_image, in_range=(0, 10))\n",
    "\n",
    "ax2.imshow(hog_color_rescaled, cmap=plt.cm.gray)\n",
    "ax2.set_title('Histogram of Oriented Gradients (HOG)')\n",
    "\n",
    "# store to file\n",
    "plt.savefig(\"titus_flip_example_hog.png\", dpi=125)\n",
    "\n",
    "plt.show()"
   ]
  },
  {
   "cell_type": "markdown",
   "id": "b78d1e8a053b9d12",
   "metadata": {},
   "source": [
    "## Woods HOG Try"
   ]
  },
  {
   "cell_type": "code",
   "execution_count": null,
   "id": "a6341ecd75755536",
   "metadata": {
    "ExecuteTime": {
     "start_time": "2024-04-18T14:29:45.660438Z"
    }
   },
   "outputs": [],
   "source": [
    "image = imread('woods.JPEG')\n",
    "imshow(image)\n",
    "print(image.shape)\n",
    "resized_image = resize(image, (200, 300))\n",
    "#resized_image = image\n",
    "imshow(resized_image)\n",
    "print(resized_image.shape)\n",
    "fig, hog_image = hog(resized_image, orientations=9, pixels_per_cell=(8, 8),\n",
    "                     cells_per_block=(2, 2), visualize=True, channel_axis=2 #multichannel=True\n",
    "                     )\n",
    "fig, (ax1, ax2) = plt.subplots(1, 2, figsize=(16, 7), sharex=True, sharey=True)\n",
    "\n",
    "ax1.imshow(resized_image, cmap=plt.cm.gray)\n",
    "ax1.set_title('Input image')\n",
    "\n",
    "# Rescale histogram for better display \n",
    "hog_color_rescaled = exposure.rescale_intensity(hog_image, in_range=(0, 10))\n",
    "\n",
    "ax2.imshow(hog_color_rescaled, cmap=plt.cm.gray)\n",
    "ax2.set_title('Histogram of Oriented Gradients (HOG)')\n",
    "\n",
    "# store to file\n",
    "plt.savefig(\"woods_example_hog.png\", dpi=125)\n",
    "\n",
    "plt.show()"
   ]
  },
  {
   "cell_type": "code",
   "execution_count": null,
   "id": "61ea85110560ceeb",
   "metadata": {
    "ExecuteTime": {
     "start_time": "2024-04-18T14:29:45.662238Z"
    }
   },
   "outputs": [],
   "source": [
    "print(hog_image)"
   ]
  },
  {
   "cell_type": "markdown",
   "id": "c9fef55e2abc1ae9",
   "metadata": {},
   "source": [
    "## My Face HOG Example"
   ]
  },
  {
   "cell_type": "code",
   "execution_count": null,
   "id": "4787914732cc3ab2",
   "metadata": {
    "ExecuteTime": {
     "start_time": "2024-04-18T14:29:45.663639Z"
    }
   },
   "outputs": [],
   "source": [
    "image = imread('closeup_face.png')\n",
    "imshow(image)\n",
    "print(image.shape)\n",
    "resized_image = resize(image, (400, 500))\n",
    "resized_image = image\n",
    "imshow(resized_image)\n",
    "print(resized_image.shape)\n",
    "fig, hog_image = hog(resized_image, orientations=9, pixels_per_cell=(8, 8),\n",
    "                     cells_per_block=(2, 2), visualize=True, channel_axis=2  #multichannel=True\n",
    "                     )\n",
    "fig, (ax1, ax2) = plt.subplots(1, 2, figsize=(16, 7), sharex=True, sharey=True)\n",
    "\n",
    "ax1.imshow(resized_image, cmap=plt.cm.gray)\n",
    "ax1.set_title('Input image')\n",
    "\n",
    "# Rescale histogram for better display \n",
    "hog_color_rescaled = exposure.rescale_intensity(hog_image, in_range=(0, 10))\n",
    "\n",
    "ax2.imshow(hog_color_rescaled, cmap=plt.cm.gray)\n",
    "ax2.set_title('Histogram of Oriented Gradients (HOG)')\n",
    "\n",
    "# store to file\n",
    "plt.savefig(\"face_example_hog.png\", dpi=125)\n",
    "\n",
    "plt.show()\n",
    "## My Face HOG Example\n"
   ]
  }
 ],
 "metadata": {
  "kernelspec": {
   "display_name": "Python 3 (ipykernel)",
   "language": "python",
   "name": "python3"
  },
  "language_info": {
   "codemirror_mode": {
    "name": "ipython",
    "version": 3
   },
   "file_extension": ".py",
   "mimetype": "text/x-python",
   "name": "python",
   "nbconvert_exporter": "python",
   "pygments_lexer": "ipython3",
   "version": "3.11.4"
  }
 },
 "nbformat": 4,
 "nbformat_minor": 5
}
